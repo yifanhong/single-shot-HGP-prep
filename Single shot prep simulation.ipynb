{
 "cells": [
  {
   "cell_type": "markdown",
   "id": "e269ac68-5d00-452b-af67-5fc97507629d",
   "metadata": {},
   "source": [
    "# Goal: prepare logical $\\ket{\\overline{+}}$ state"
   ]
  },
  {
   "cell_type": "code",
   "execution_count": 1,
   "id": "9ed59f5c-7a36-41a6-957c-eb61a978441f",
   "metadata": {},
   "outputs": [],
   "source": [
    "import numpy as np\n",
    "import matplotlib.pyplot as plt\n",
    "from ldpc.codes import rep_code\n",
    "from bposd.css import css_code\n",
    "from bposd.hgp import hgp\n",
    "from ldpc import bposd_decoder\n",
    "from ldpc.code_util import codewords, compute_code_distance, systematic_form, construct_generator_matrix, get_code_parameters, get_ldpc_params, search_cycles\n",
    "from ldpc.mod2 import rank\n",
    "from scipy.sparse import csc_matrix\n",
    "import networkx as nx\n",
    "from networkx.algorithms.bipartite import configuration_model, biadjacency_matrix\n",
    "from multiprocess import Pool\n",
    "import X_error_sim, X_error_sim_trad, Z_error_sim_full_dec, Z_error_sim_ss_dec\n",
    "plt.rcParams['font.size'] = 14\n",
    "plt.rcParams['text.usetex'] = True"
   ]
  },
  {
   "cell_type": "markdown",
   "id": "4ca04d4a-3ac1-42ab-9ca0-8f01fa78c1e9",
   "metadata": {},
   "source": [
    "# Basic functions"
   ]
  },
  {
   "cell_type": "code",
   "execution_count": 2,
   "id": "618002d6-4fcc-405d-9ac1-bca7dd6e561a",
   "metadata": {},
   "outputs": [],
   "source": [
    "def f(p,a):\n",
    "    return 1-(1-p)**a\n",
    "\n",
    "def df(p,a):\n",
    "    return a*(1-p)**(a-1)"
   ]
  },
  {
   "cell_type": "markdown",
   "id": "16b2782b-b0a4-4db7-ae6d-baa667291ddc",
   "metadata": {},
   "source": [
    "## Sample HGP parent codes"
   ]
  },
  {
   "cell_type": "code",
   "execution_count": 43,
   "id": "a8c42bd2-c0d5-44a4-964f-c67658e6889b",
   "metadata": {},
   "outputs": [
    {
     "name": "stdout",
     "output_type": "stream",
     "text": [
      "9 15\n"
     ]
    }
   ],
   "source": [
    "n = 18\n",
    "d_v = 5\n",
    "d_c = 6\n",
    "\n",
    "graph = configuration_model(d_v*np.ones(n,dtype=int), d_c*np.ones(int(n*d_v/d_c),dtype=int), create_using=nx.Graph())\n",
    "H = biadjacency_matrix(graph, row_order=np.arange(n)).T.toarray()\n",
    "print(compute_code_distance(H), rank(H))"
   ]
  },
  {
   "cell_type": "code",
   "execution_count": 46,
   "id": "30fed889-3c5d-4899-b1ca-7489a77d3925",
   "metadata": {},
   "outputs": [
    {
     "name": "stdout",
     "output_type": "stream",
     "text": [
      "<Unnamed CSS code>, (6,11)-[[549,9,9]]\n",
      " -Block dimensions: Pass\n",
      " -PCMs commute hz@hx.T==0: Pass\n",
      " -PCMs commute hx@hz.T==0: Pass\n",
      " -lx \\in ker{hz} AND lz \\in ker{hx}: Pass\n",
      " -lx and lz anticommute: Pass\n",
      " -<Unnamed CSS code> is a valid CSS code w/ params (6,11)-[[549,9,9]]\n"
     ]
    },
    {
     "data": {
      "text/plain": [
       "True"
      ]
     },
     "execution_count": 46,
     "metadata": {},
     "output_type": "execute_result"
    }
   ],
   "source": [
    "code = hgp(h1=H, h2=H, compute_distance=True)\n",
    "code.test()"
   ]
  },
  {
   "cell_type": "markdown",
   "id": "c4abaab6-8b67-429e-94dc-31f4560ce4c3",
   "metadata": {},
   "source": [
    "# Run simulation of $X$ errors"
   ]
  },
  {
   "cell_type": "code",
   "execution_count": 47,
   "id": "9dedb11c-13e9-43d0-b1ce-5153ab6158f6",
   "metadata": {},
   "outputs": [
    {
     "name": "stdout",
     "output_type": "stream",
     "text": [
      "z: 3 / 3 , Res: 10 / 10        \r"
     ]
    }
   ],
   "source": [
    "res = 10\n",
    "p_min = 5E-3\n",
    "p_max = 5E-2\n",
    "z_list = [1,3,5]\n",
    "iters = np.logspace(5,2,res, dtype=int)\n",
    "PROCESSES = 20\n",
    "\n",
    "iters = iters//PROCESSES*PROCESSES\n",
    "logical_error_probs = np.zeros([len(z_list),res])\n",
    "p_list = np.logspace(np.log10(p_min), np.log10(p_max), res)\n",
    "pool = Pool(processes=PROCESSES)\n",
    "\n",
    "for w in range(len(z_list)):\n",
    "    for r in range(res):\n",
    "        print('z: {} / {} , Res: {} / {}        '.format(w+1,len(z_list),r+1,res), end='\\r')\n",
    "        params = (code, [20,20], p_list[r], p_list[r], iters[r]//PROCESSES, z_list[w])\n",
    "        args = [params for i in range(PROCESSES)]\n",
    "        if __name__ ==  '__main__':\n",
    "            failures = pool.starmap(X_error_sim.get_BPOSD_failures, args)\n",
    "        logical_error_probs[w,r] = np.sum(failures) / iters[r]\n",
    "pool.close()"
   ]
  },
  {
   "cell_type": "markdown",
   "id": "e5243ed8-88e7-4829-b8fe-b4515d394c19",
   "metadata": {},
   "source": [
    "### Load simulation data"
   ]
  },
  {
   "cell_type": "code",
   "execution_count": 3,
   "id": "3ea839b8-0736-4f31-a9a6-7dbcbf3cb9b2",
   "metadata": {},
   "outputs": [],
   "source": [
    "p_list = np.loadtxt('Data/p_list_x.txt')\n",
    "iters = np.loadtxt('Data/iters_x.txt')\n",
    "logical_error_probs = np.loadtxt('Data/[20,4,8]_HGP_z=1_3_5.txt')\n",
    "z_list = [1,3,5]"
   ]
  },
  {
   "cell_type": "markdown",
   "id": "2d780fb5-1d97-41d0-9cca-c10f588465f4",
   "metadata": {},
   "source": [
    "### Process simulation data"
   ]
  },
  {
   "cell_type": "code",
   "execution_count": 48,
   "id": "231505f7-1874-4394-a49c-005d703ffa91",
   "metadata": {},
   "outputs": [],
   "source": [
    "logical_error_std = np.sqrt(logical_error_probs*(1-logical_error_probs)/iters)"
   ]
  },
  {
   "cell_type": "markdown",
   "id": "d383f45f-6a0c-4825-bb0e-3d944053c18d",
   "metadata": {},
   "source": [
    "### Save simulation data"
   ]
  },
  {
   "cell_type": "code",
   "execution_count": 63,
   "id": "4a85849f-7f80-4e17-a28c-ce6032e76fe4",
   "metadata": {},
   "outputs": [],
   "source": [
    "# np.savetxt('Data/[18,3,9]_code.txt', H, fmt='%g')\n",
    "# np.savetxt('Data/p_list_x.txt', p_list)\n",
    "# np.savetxt('Data/iters_x.txt', iters//PROCESSES*PROCESSES)\n",
    "# np.savetxt('Data/[18,3,9]_HGP_z=1_3_5.txt', logical_error_probs)"
   ]
  },
  {
   "cell_type": "markdown",
   "id": "75c601af-4774-45d0-821b-7284733b20d3",
   "metadata": {},
   "source": [
    "# Run traditional simulation of multiple rounds of QEC"
   ]
  },
  {
   "cell_type": "code",
   "execution_count": 49,
   "id": "a074bf8e-7401-4062-a508-188b1f16a54d",
   "metadata": {},
   "outputs": [
    {
     "name": "stdout",
     "output_type": "stream",
     "text": [
      "z: 3 / 3 , Res: 10 / 10        \r"
     ]
    }
   ],
   "source": [
    "res = 10\n",
    "p_min = 5E-3\n",
    "p_max = 5E-2\n",
    "z_list = [1,3,5]\n",
    "iters2 = np.logspace(5,2,res, dtype=int)\n",
    "PROCESSES = 20\n",
    "\n",
    "iters2 = iters2//PROCESSES*PROCESSES\n",
    "logical_error_probs2 = np.zeros([len(z_list),res])\n",
    "p_list = np.logspace(np.log10(p_min), np.log10(p_max), res)\n",
    "pool = Pool(processes=PROCESSES)\n",
    "\n",
    "for w in range(len(z_list)):\n",
    "    for r in range(res):\n",
    "        print('z: {} / {} , Res: {} / {}        '.format(w+1,len(z_list),r+1,res), end='\\r')\n",
    "        params = (code, [20,20], p_list[r], p_list[r], iters2[r]//PROCESSES, z_list[w]-1)\n",
    "        args = [params for i in range(PROCESSES)]\n",
    "        if __name__ ==  '__main__':\n",
    "            failures = pool.starmap(X_error_sim_trad.get_BPOSD_failures, args)\n",
    "        logical_error_probs2[w,r] = np.sum(failures) / iters2[r]\n",
    "pool.close()"
   ]
  },
  {
   "cell_type": "markdown",
   "id": "2d45c828-48b4-44ac-81b9-7f23c015ae42",
   "metadata": {},
   "source": [
    "### Load simulation data"
   ]
  },
  {
   "cell_type": "code",
   "execution_count": 3,
   "id": "46a90c67-88fb-4658-8b61-5d383c9d1fd0",
   "metadata": {},
   "outputs": [],
   "source": [
    "p_list = np.loadtxt('Data/p_list_x.txt')\n",
    "iters2 = np.loadtxt('Data/iters_x.txt')\n",
    "logical_error_probs2 = np.loadtxt('Data/[20,4,8]_HGP_z=1_3_5.txt')\n",
    "z_list = [1,3,5]"
   ]
  },
  {
   "cell_type": "markdown",
   "id": "09e7d831-b55e-44a1-8064-b1d63475f479",
   "metadata": {},
   "source": [
    "### Process simulation data"
   ]
  },
  {
   "cell_type": "code",
   "execution_count": 50,
   "id": "2f3d646c-98a2-4c30-9187-f960bd54ccc8",
   "metadata": {},
   "outputs": [],
   "source": [
    "logical_error_std2 = np.sqrt(logical_error_probs2*(1-logical_error_probs2)/iters2)"
   ]
  },
  {
   "cell_type": "markdown",
   "id": "31edf273-3898-4e3a-b403-3a4f57ec0a35",
   "metadata": {},
   "source": [
    "### Save simulation data"
   ]
  },
  {
   "cell_type": "code",
   "execution_count": 64,
   "id": "245aa70e-e0eb-4242-b24a-d1f4a5bf6f84",
   "metadata": {},
   "outputs": [],
   "source": [
    "# np.savetxt('Data/p_list_x.txt', p_list)\n",
    "# np.savetxt('Data/iters_x.txt', iters//PROCESSES*PROCESSES)\n",
    "# np.savetxt('Data/[18,3,9]_HGP_trad_t=1_3_5.txt', logical_error_probs2)"
   ]
  },
  {
   "cell_type": "markdown",
   "id": "b7e49b4d-5066-4605-92c0-8bca5e824ae9",
   "metadata": {},
   "source": [
    "### Plot simulation data"
   ]
  },
  {
   "cell_type": "code",
   "execution_count": 62,
   "id": "2e9c0a50-800f-48a4-a0d3-202fb7b75d61",
   "metadata": {},
   "outputs": [
    {
     "data": {
      "image/png": "[encoded data removed]",
      "text/plain": [
       "<Figure size 480x410 with 1 Axes>"
      ]
     },
     "metadata": {},
     "output_type": "display_data"
    }
   ],
   "source": [
    "plt.figure(figsize=[4.8,4.1])\n",
    "cutoffs1 = [np.arange(0,10), np.arange(0,10), np.arange(0,10), np.arange(0,10)]\n",
    "fmt1 = ['s-', 'o-', '^-', 'D-']\n",
    "fmt2 = ['s--', 'o--', '^--', 'D-']\n",
    "colors = ['tab:blue', 'tab:orange', 'tab:green']\n",
    "for i in range(len(z_list)):\n",
    "    if z_list[i]==1: label=r'$\\ell={}$ (nFT)'\n",
    "    else: label=r'$\\ell={}$'\n",
    "    plt.errorbar(p_list[cutoffs1[i]], logical_error_probs[i][cutoffs1[i]], yerr=logical_error_std[i][cutoffs1[i]], \n",
    "            fmt=fmt1[i], color=colors[i], capsize=3, label=label.format(z_list[i]))\n",
    "    plt.errorbar(p_list[cutoffs1[i]], logical_error_probs2[i][cutoffs1[i]], yerr=logical_error_std2[i][cutoffs1[i]], \n",
    "            fmt=fmt2[i], color=colors[i], capsize=2)\n",
    "plt.xlabel('$Z$-syndrome error rate', fontsize=14)\n",
    "plt.ylabel('Logical $\\\\overline{X}$ block error rate', fontsize=14)\n",
    "# plt.title('$[\\![656,16,8]\\!]$ HGP')\n",
    "plt.yscale('log')\n",
    "plt.xscale('log')\n",
    "plt.legend(fontsize=14, loc='lower right')\n",
    "plt.xticks([min(p_list), *plt.xticks()[0], max(p_list)], \n",
    "           labels=['$5\\\\times 10^{-3}$', *plt.xticks()[1], '$5\\\\times 10^{-2}$'])\n",
    "plt.xlim([4E-3,6E-2])\n",
    "plt.tight_layout()\n",
    "# plt.savefig('Plots/BLER_X_different_z.pdf')"
   ]
  },
  {
   "cell_type": "markdown",
   "id": "b1eaf30b-1599-4fa6-ba36-9d15f7ad2542",
   "metadata": {},
   "source": [
    "# __________________________________________________________________________\n",
    "# Second simulation\n",
    "# __________________________________________________________________________"
   ]
  },
  {
   "cell_type": "markdown",
   "id": "a88dd755-315e-41bd-acf5-ee291874d5fb",
   "metadata": {},
   "source": [
    "## Sample HGP parent codes"
   ]
  },
  {
   "cell_type": "code",
   "execution_count": 13,
   "id": "6c129d13-6ee6-477d-9544-245eda7d7131",
   "metadata": {},
   "outputs": [],
   "source": [
    "H_list = []"
   ]
  },
  {
   "cell_type": "code",
   "execution_count": 25,
   "id": "1574d83a-5ec9-4991-99ba-da3ee401380b",
   "metadata": {},
   "outputs": [
    {
     "name": "stdout",
     "output_type": "stream",
     "text": [
      "9 20\n"
     ]
    }
   ],
   "source": [
    "n = 24\n",
    "d_v = 5\n",
    "d_c = 6\n",
    "\n",
    "graph = configuration_model(d_v*np.ones(n,dtype=int), d_c*np.ones(int(n*d_v/d_c),dtype=int), create_using=nx.Graph())\n",
    "H = biadjacency_matrix(graph, row_order=np.arange(n)).T.toarray()\n",
    "print(compute_code_distance(H), rank(H))"
   ]
  },
  {
   "cell_type": "code",
   "execution_count": 26,
   "id": "da350e4e-098c-4710-a8be-8c3919a22db9",
   "metadata": {},
   "outputs": [],
   "source": [
    "H_list.append(H)"
   ]
  },
  {
   "cell_type": "code",
   "execution_count": 27,
   "id": "51c17584-29f1-492c-8ee6-63bf43f4289b",
   "metadata": {},
   "outputs": [],
   "source": [
    "code_list = []\n",
    "d_list = []\n",
    "for H in H_list:\n",
    "    code = hgp(h1=H, h2=H, compute_distance=True)\n",
    "    code_list.append(code)\n",
    "    d_list.append(code.D)\n",
    "d_list = np.array(d_list)"
   ]
  },
  {
   "cell_type": "code",
   "execution_count": 88,
   "id": "0b818f99-7dde-4c18-b19d-85f64e14925b",
   "metadata": {},
   "outputs": [],
   "source": [
    "code_list[3] = hgp(h1=H, h2=H, compute_distance=True)\n",
    "d_list[3] = code_list[3].D"
   ]
  },
  {
   "cell_type": "markdown",
   "id": "c03b2edd-4fbc-4b31-add7-2e57bb49eb9b",
   "metadata": {},
   "source": [
    "# Run simulation of $Z$ errors"
   ]
  },
  {
   "cell_type": "code",
   "execution_count": 101,
   "id": "b7ee5fa4-457a-41af-a275-7cbf37cfaaba",
   "metadata": {},
   "outputs": [
    {
     "name": "stdout",
     "output_type": "stream",
     "text": [
      "z: 3 / 3 , Res: 10 / 10        \r"
     ]
    }
   ],
   "source": [
    "res = 10\n",
    "p_min = 3E-3\n",
    "p_max = 2E-2\n",
    "z_list = d_list.copy()\n",
    "iters = np.logspace(5,2.5,res, dtype=int)\n",
    "PROCESSES = 15\n",
    "\n",
    "iters = iters//PROCESSES*PROCESSES\n",
    "logical_error_probs = np.zeros([len(z_list),res])\n",
    "p_list = np.logspace(np.log10(p_min), np.log10(p_max), res)\n",
    "pool = Pool(processes=PROCESSES)\n",
    "\n",
    "for w in range(len(z_list)):\n",
    "# for w in range(3,4):\n",
    "    code = code_list[w]\n",
    "    for r in range(res):\n",
    "        print('z: {} / {} , Res: {} / {}        '.format(w+1,len(z_list),r+1,res), end='\\r')\n",
    "        params = (code, [20,20], p_list[r], iters[r]//PROCESSES, z_list[w])\n",
    "        args = [params for i in range(PROCESSES)]\n",
    "        if __name__ ==  '__main__':\n",
    "            failures = pool.starmap(Z_error_sim_ss_dec.get_BPOSD_failures, args)\n",
    "        logical_error_probs[w,r] = np.sum(failures) / iters[r]\n",
    "pool.close()"
   ]
  },
  {
   "cell_type": "code",
   "execution_count": 87,
   "id": "f2bae89c-7961-403c-95ab-72891b94beb1",
   "metadata": {},
   "outputs": [
    {
     "name": "stdout",
     "output_type": "stream",
     "text": [
      "0.0001\n"
     ]
    }
   ],
   "source": [
    "cycles = 20000\n",
    "pool = Pool(processes=PROCESSES)\n",
    "params = (code_list[3], [20,20], 3E-3, cycles//PROCESSES, 15)\n",
    "args = [params for i in range(PROCESSES)]\n",
    "if __name__ ==  '__main__':\n",
    "    failures = pool.starmap(Z_error_sim_ss_dec.get_BPOSD_failures, args)\n",
    "pool.close()\n",
    "print(np.sum(failures) / cycles)"
   ]
  },
  {
   "cell_type": "markdown",
   "id": "51f300a0-970b-4a68-be8a-dea19d3f1c0e",
   "metadata": {},
   "source": [
    "### Save simulation data"
   ]
  },
  {
   "cell_type": "code",
   "execution_count": 581,
   "id": "2fa22cdf-7df1-4ab2-9584-484978949abf",
   "metadata": {},
   "outputs": [],
   "source": [
    "# np.savetxt('Data/p_list_z.txt', p_list)\n",
    "# np.savetxt('Data/iters_z.txt', iters)\n",
    "# np.savetxt('Data/Z_sim_HGP_d=5_7_9.txt', logical_error_probs)"
   ]
  },
  {
   "cell_type": "markdown",
   "id": "691c8698-717a-469e-ad4d-de65b0b5b502",
   "metadata": {},
   "source": [
    "### Load simulation data"
   ]
  },
  {
   "cell_type": "code",
   "execution_count": 28,
   "id": "e728807f-a190-47d4-a0e3-0e57eb622b8a",
   "metadata": {},
   "outputs": [],
   "source": [
    "p_list = np.loadtxt('Data/p_list_z.txt')\n",
    "iters = np.loadtxt('Data/iters_z.txt')\n",
    "logical_error_probs = np.loadtxt('Data/Z_sim_HGP_d=5_7_9.txt')\n",
    "z_list = [5,7,9]"
   ]
  },
  {
   "cell_type": "markdown",
   "id": "6f3f0bf9-d330-49da-95b5-b2d09e7d109d",
   "metadata": {},
   "source": [
    "### Process simulation data"
   ]
  },
  {
   "cell_type": "code",
   "execution_count": 29,
   "id": "337d1c64-9f4b-401b-94e0-2a725130b445",
   "metadata": {},
   "outputs": [],
   "source": [
    "def f(p,a):\n",
    "    return 1-(1-p)**a\n",
    "\n",
    "def df(p,a):\n",
    "    return a*(1-p)**(a-1)\n",
    "\n",
    "logical_error_std = np.sqrt(logical_error_probs*(1-logical_error_probs)/iters)"
   ]
  },
  {
   "cell_type": "markdown",
   "id": "b65c4599-af16-4f30-b380-8873c3ba3536",
   "metadata": {},
   "source": [
    "### Plot simulation data"
   ]
  },
  {
   "cell_type": "code",
   "execution_count": 32,
   "id": "5df07de3-b151-4b16-b479-23ebf563c15f",
   "metadata": {},
   "outputs": [
    {
     "data": {
      "image/png": "[encoded data removed]",
      "text/plain": [
       "<Figure size 480x410 with 1 Axes>"
      ]
     },
     "metadata": {},
     "output_type": "display_data"
    }
   ],
   "source": [
    "plt.figure(figsize=[4.8,4.1])\n",
    "cutoffs1 = [np.arange(0,10), np.arange(0,10), np.arange(0,10), np.arange(0,10)]\n",
    "fmt1 = ['s-', 'o-', '^-', 'D-']\n",
    "for i in range(len(z_list)):\n",
    "    plt.errorbar(p_list[cutoffs1[i]], logical_error_probs[i][cutoffs1[i]], yerr=logical_error_std[i][cutoffs1[i]], \n",
    "            fmt=fmt1[i], capsize=3, label=r'$[\\![{},{},{}]\\!]$'.format(code_list[i].N, code_list[i].K, code_list[i].D))\n",
    "plt.xlabel('Physical $Z$ error rate', fontsize=14)\n",
    "plt.ylabel('Logical $\\\\overline{Z}$ block error rate', fontsize=14)\n",
    "# plt.title('$[\\![656,16,8]\\!]$ HGP')\n",
    "plt.yscale('log')\n",
    "plt.xscale('log')\n",
    "plt.legend(fontsize=14, loc='lower right')\n",
    "# plt.xticks([min(p_list), *plt.xticks()[0], max(p_list)], \n",
    "#            labels=['$5\\\\times 10^{-3}$', *plt.xticks()[1], '$5\\\\times 10^{-2}$'])\n",
    "# plt.xlim([4E-3,6E-2])\n",
    "plt.tight_layout()\n",
    "# plt.savefig('Plots/BLER_Z_different_HGP.pdf')"
   ]
  },
  {
   "cell_type": "markdown",
   "id": "166a3deb-7cc9-42f8-8d8c-51fbc8b17865",
   "metadata": {},
   "source": [
    "### "
   ]
  },
  {
   "cell_type": "code",
   "execution_count": null,
   "id": "76987009-fe1b-424e-8585-27530f013b09",
   "metadata": {},
   "outputs": [],
   "source": []
  }
 ],
 "metadata": {
  "kernelspec": {
   "display_name": "Python 3 (ipykernel)",
   "language": "python",
   "name": "python3"
  },
  "language_info": {
   "codemirror_mode": {
    "name": "ipython",
    "version": 3
   },
   "file_extension": ".py",
   "mimetype": "text/x-python",
   "name": "python",
   "nbconvert_exporter": "python",
   "pygments_lexer": "ipython3",
   "version": "3.9.16"
  }
 },
 "nbformat": 4,
 "nbformat_minor": 5
}
